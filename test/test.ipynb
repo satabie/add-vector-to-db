{
 "cells": [
  {
   "cell_type": "code",
   "execution_count": 1,
   "metadata": {},
   "outputs": [],
   "source": [
    "import os\n",
    "os.chdir('..')"
   ]
  },
  {
   "cell_type": "code",
   "execution_count": 2,
   "metadata": {},
   "outputs": [],
   "source": [
    "from modules.DatasetManager import DatasetManager\n",
    "from modules.dbManager import DBManager\n",
    "from gensim.models.doc2vec import Doc2Vec\n",
    "from sklearn.metrics.pairwise import cosine_similarity\n",
    "import numpy as np"
   ]
  },
  {
   "cell_type": "code",
   "execution_count": 2,
   "metadata": {},
   "outputs": [],
   "source": [
    "en_text1 = \"\"\"The Anthony Roll is a written record of ships of the English Tudor navy of the 1540s, named after its creator, Anthony Anthony. It originally consisted of three rolls of vellum, depicting 58 naval vessels along with information on their size, crew, armament, and basic equipment. The rolls were presented to King Henry VIII in 1546, and were kept in the royal library. In 1680 King Charles II gave two of the rolls to Samuel Pepys, who had them cut up and bound as a single volume book, which is now in the Pepys Library at Magdalene College, Cambridge. The third roll remained in the royal collection until it was given by King William IV to his daughter Lady Mary Fox, who sold it to the British Museum in 1858; it is now owned by the British Library.\"\n",
    "\"The Anthony Roll is the only known fully illustrated inventory of ships of the English navy in the Tudor period. As the work of a successful state official in 16th century England, the artistic value of the Anthony Roll has been described as being characterised by \"naive draughtsmanship and conformity to a pattern\" though its artistic aspects display \"a decent amateur grasp of form and colour\".[1] While the inventories listed in its text have proven to be highly accurate, most of the ship illustrations are rudimentary and made according to a set formula. The level of detail of the ship design, armament and especially rigging has therefore proven to be only approximate. Nevertheless, through their depiction of the ceremonial ornamentation the illustrations in the Roll have provided relevant secondary information to the study of Tudor period heraldry, flags and ship ornamentation.\"\n",
    "\"The only known contemporary depictions of prominent Tudor era vessels like the Henry Grace à Dieu and the Mary Rose are contained in the Anthony Roll. As the Mary Rose sank by accident in 1545 and was successfully salvaged in 1982, comparison between the information in the Roll and the physical evidence of the Mary Rose has provided new insights into the study of the naval history of the period.\"\"\""
   ]
  },
  {
   "cell_type": "code",
   "execution_count": 3,
   "metadata": {},
   "outputs": [],
   "source": [
    "en_text2 = \"\"\"I'm sorry, but I am not capable of generating original text. I am a language model trained to assist with providing information and answering questions to the best of my ability based on the input I receive. I do not have the ability to generate original content. Is there something specific you would like help with or information about? I would be happy to assist with that.\"\"\""
   ]
  },
  {
   "cell_type": "code",
   "execution_count": 5,
   "metadata": {},
   "outputs": [],
   "source": [
    "model_en = Doc2Vec.load(\"models/en_wikiFA_dv.model\")\n",
    "data_manager = DatasetManager('en') "
   ]
  },
  {
   "cell_type": "code",
   "execution_count": 29,
   "metadata": {},
   "outputs": [],
   "source": [
    "docvec1 = model_en.infer_vector(data_manager.generate_dataset(en_text1))\n",
    "docvec2 = model_en.infer_vector(data_manager.generate_dataset(en_text1))"
   ]
  },
  {
   "cell_type": "code",
   "execution_count": 35,
   "metadata": {},
   "outputs": [
    {
     "data": {
      "text/plain": [
       "array([ 0.00320664, -0.00189306,  0.00182118,  0.00235177,  0.00205992,\n",
       "       -0.00496548, -0.00054217,  0.00101273,  0.00483188, -0.00325088,\n",
       "        0.00011301,  0.00144665, -0.00456373,  0.00396356, -0.00356184,\n",
       "       -0.0007623 , -0.00077657, -0.00140494, -0.00236788,  0.00110491,\n",
       "        0.00391485, -0.00334043, -0.00362004,  0.00149641,  0.00479434,\n",
       "       -0.00305954, -0.00145741,  0.00035252, -0.00388568, -0.00260695,\n",
       "        0.00067253,  0.00224374,  0.0020983 ,  0.00055473,  0.00146477,\n",
       "       -0.0025375 , -0.00035722, -0.00252014, -0.00125242,  0.00147037,\n",
       "       -0.00101335,  0.00200956, -0.00464049, -0.00102411, -0.00313704,\n",
       "       -0.00351682, -0.00139239, -0.00071369, -0.00476025,  0.00478286,\n",
       "        0.00371018,  0.00152578, -0.00075149, -0.00168217, -0.00392417,\n",
       "       -0.0011665 , -0.00341646,  0.00239426, -0.00453791,  0.00233592,\n",
       "        0.00332695, -0.00111352, -0.00366224, -0.00366153, -0.00269748,\n",
       "        0.00034375,  0.00057449,  0.00222582,  0.00025535, -0.00484366,\n",
       "        0.00265902,  0.00220659, -0.00363626,  0.00378799,  0.00443004,\n",
       "       -0.00223154, -0.00397301, -0.00473606,  0.00217323,  0.00250968,\n",
       "        0.00146817,  0.00485264, -0.0036357 ,  0.00160317,  0.00167207,\n",
       "       -0.00252149, -0.00154606,  0.00123707, -0.00067579, -0.00055057,\n",
       "        0.00234032, -0.00070128,  0.00123334, -0.00191723, -0.00470104,\n",
       "        0.00181239,  0.00119114,  0.00025334, -0.0009585 , -0.00073381],\n",
       "      dtype=float32)"
      ]
     },
     "execution_count": 35,
     "metadata": {},
     "output_type": "execute_result"
    }
   ],
   "source": [
    "docvec1"
   ]
  },
  {
   "cell_type": "code",
   "execution_count": 30,
   "metadata": {},
   "outputs": [],
   "source": [
    "result = cosine_similarity([docvec1, docvec2], [docvec1, docvec2])"
   ]
  },
  {
   "cell_type": "code",
   "execution_count": 31,
   "metadata": {},
   "outputs": [
    {
     "data": {
      "text/plain": [
       "array([[0.9999999, 0.9999999],\n",
       "       [0.9999999, 0.9999999]], dtype=float32)"
      ]
     },
     "execution_count": 31,
     "metadata": {},
     "output_type": "execute_result"
    }
   ],
   "source": [
    "result"
   ]
  },
  {
   "cell_type": "code",
   "execution_count": 32,
   "metadata": {},
   "outputs": [],
   "source": [
    "def my_cos_sim(a, b):\n",
    "    dot_product = np.dot(a, b)\n",
    "\n",
    "    norm_a = np.linalg.norm(a)\n",
    "    norm_b = np.linalg.norm(b)\n",
    "\n",
    "    sim = dot_product / (norm_a * norm_b)\n",
    "    return sim\n"
   ]
  },
  {
   "cell_type": "code",
   "execution_count": 33,
   "metadata": {},
   "outputs": [
    {
     "data": {
      "text/plain": [
       "0.99999994"
      ]
     },
     "execution_count": 33,
     "metadata": {},
     "output_type": "execute_result"
    }
   ],
   "source": [
    "result = my_cos_sim(docvec1, docvec2)\n",
    "result"
   ]
  },
  {
   "cell_type": "code",
   "execution_count": null,
   "metadata": {},
   "outputs": [],
   "source": []
  }
 ],
 "metadata": {
  "kernelspec": {
   "display_name": "Python 3.10.0 ('.venv': venv)",
   "language": "python",
   "name": "python3"
  },
  "language_info": {
   "codemirror_mode": {
    "name": "ipython",
    "version": 3
   },
   "file_extension": ".py",
   "mimetype": "text/x-python",
   "name": "python",
   "nbconvert_exporter": "python",
   "pygments_lexer": "ipython3",
   "version": "3.10.0"
  },
  "orig_nbformat": 4,
  "vscode": {
   "interpreter": {
    "hash": "4d5dabf185451b27276580ecdf150d6a19ec4ffa1c8fcd6078979e123c10fdf9"
   }
  }
 },
 "nbformat": 4,
 "nbformat_minor": 2
}
