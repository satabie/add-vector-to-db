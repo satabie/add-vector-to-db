{
 "cells": [
  {
   "cell_type": "code",
   "execution_count": 2,
   "metadata": {},
   "outputs": [],
   "source": [
    "from modules.DatasetManager import DatasetManager\n",
    "from modules.dbManager import DBManager\n",
    "from gensim.models.doc2vec import Doc2Vec"
   ]
  },
  {
   "cell_type": "code",
   "execution_count": 3,
   "metadata": {},
   "outputs": [],
   "source": [
    "en_text = \"\"\"The Anthony Roll is a written record of ships of the English Tudor navy of the 1540s, named after its creator, Anthony Anthony. It originally consisted of three rolls of vellum, depicting 58 naval vessels along with information on their size, crew, armament, and basic equipment. The rolls were presented to King Henry VIII in 1546, and were kept in the royal library. In 1680 King Charles II gave two of the rolls to Samuel Pepys, who had them cut up and bound as a single volume book, which is now in the Pepys Library at Magdalene College, Cambridge. The third roll remained in the royal collection until it was given by King William IV to his daughter Lady Mary Fox, who sold it to the British Museum in 1858; it is now owned by the British Library.\"\n",
    "\"The Anthony Roll is the only known fully illustrated inventory of ships of the English navy in the Tudor period. As the work of a successful state official in 16th century England, the artistic value of the Anthony Roll has been described as being characterised by \"naive draughtsmanship and conformity to a pattern\" though its artistic aspects display \"a decent amateur grasp of form and colour\".[1] While the inventories listed in its text have proven to be highly accurate, most of the ship illustrations are rudimentary and made according to a set formula. The level of detail of the ship design, armament and especially rigging has therefore proven to be only approximate. Nevertheless, through their depiction of the ceremonial ornamentation the illustrations in the Roll have provided relevant secondary information to the study of Tudor period heraldry, flags and ship ornamentation.\"\n",
    "\"The only known contemporary depictions of prominent Tudor era vessels like the Henry Grace à Dieu and the Mary Rose are contained in the Anthony Roll. As the Mary Rose sank by accident in 1545 and was successfully salvaged in 1982, comparison between the information in the Roll and the physical evidence of the Mary Rose has provided new insights into the study of the naval history of the period.\"\"\""
   ]
  },
  {
   "cell_type": "code",
   "execution_count": 5,
   "metadata": {},
   "outputs": [],
   "source": [
    "DB_HOST = \"localhost\"\n",
    "DB_PORT = \"5432\"\n",
    "DB_USER = \"postgres\"\n",
    "DB_PASS = \"postgres\"\n",
    "DB_NAME = \"wikipedia_featured_articles\""
   ]
  },
  {
   "cell_type": "code",
   "execution_count": 10,
   "metadata": {},
   "outputs": [],
   "source": [
    "model_en = Doc2Vec.load(\"models/en_wikiFA_dv.model\")\n",
    "data_manager = DatasetManager('en') "
   ]
  },
  {
   "cell_type": "code",
   "execution_count": null,
   "metadata": {},
   "outputs": [],
   "source": [
    "model_en.infer_vector(data_manager.generate_dataset(en_text))"
   ]
  },
  {
   "cell_type": "code",
   "execution_count": null,
   "metadata": {},
   "outputs": [],
   "source": [
    "model_en.infer_vector()"
   ]
  }
 ],
 "metadata": {
  "kernelspec": {
   "display_name": "Python 3.10.0 ('.venv': venv)",
   "language": "python",
   "name": "python3"
  },
  "language_info": {
   "codemirror_mode": {
    "name": "ipython",
    "version": 3
   },
   "file_extension": ".py",
   "mimetype": "text/x-python",
   "name": "python",
   "nbconvert_exporter": "python",
   "pygments_lexer": "ipython3",
   "version": "3.10.0"
  },
  "orig_nbformat": 4,
  "vscode": {
   "interpreter": {
    "hash": "4d5dabf185451b27276580ecdf150d6a19ec4ffa1c8fcd6078979e123c10fdf9"
   }
  }
 },
 "nbformat": 4,
 "nbformat_minor": 2
}
